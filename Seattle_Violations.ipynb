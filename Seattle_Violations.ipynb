{
 "cells": [
  {
   "cell_type": "code",
   "execution_count": 324,
   "metadata": {},
   "outputs": [],
   "source": [
    "import pandas as pd\n",
    "import os\n",
    "import datetime as dt\n",
    "import numpy as np\n",
    "#set the location\n",
    "location = os.path.realpath(\n",
    "    os.path.join(os.getcwd(), os.path.dirname('Code_Complaints_and_Violations.csv')))"
   ]
  },
  {
   "cell_type": "code",
   "execution_count": 325,
   "metadata": {},
   "outputs": [],
   "source": [
    "file_path=os.path.join(location,'Code_Complaints_and_Violations.csv')\n",
    "viol_data=pd.read_csv(file_path)"
   ]
  },
  {
   "cell_type": "markdown",
   "metadata": {},
   "source": [
    "$(1)$. How many building violations does the dataset contain?"
   ]
  },
  {
   "cell_type": "code",
   "execution_count": 326,
   "metadata": {},
   "outputs": [
    {
     "name": "stdout",
     "output_type": "stream",
     "text": [
      "(1). Total number of violations: 171085\n"
     ]
    }
   ],
   "source": [
    "tot_viol=len(viol_data)\n",
    "print(\"(1). Total number of violations: \"+str(tot_viol))"
   ]
  },
  {
   "cell_type": "markdown",
   "metadata": {},
   "source": [
    "$(2)$. There are several record types in the data, contained in the \"RecordType\" column. What fraction of the records are of the second most common type?"
   ]
  },
  {
   "cell_type": "code",
   "execution_count": 330,
   "metadata": {},
   "outputs": [],
   "source": [
    "fraction_2nd_common=viol_data.RecordType.value_counts()[1]/viol_data.RecordType.value_counts().sum()\n",
    "second_most_common_type=viol_data.RecordType.value_counts()[1:].idxmax()"
   ]
  },
  {
   "cell_type": "code",
   "execution_count": 331,
   "metadata": {},
   "outputs": [
    {
     "name": "stdout",
     "output_type": "stream",
     "text": [
      "(2). Second most common type of complaints are related to ' Notice of Violation' with fraction 0.16.\n"
     ]
    }
   ],
   "source": [
    "print(\"(2). Second most common type of complaints are related to \\' \"+second_most_common_type+\"\\' with fraction {:.2f}\".format(fraction_2nd_common)+\".\")"
   ]
  },
  {
   "cell_type": "markdown",
   "metadata": {},
   "source": [
    "$(3)$For only records in 2022, what is the probability a record's current status is \"Closed\" given the description type is \"Weeds\"?"
   ]
  },
  {
   "cell_type": "code",
   "execution_count": 307,
   "metadata": {},
   "outputs": [],
   "source": [
    "#Get a more detailed look at the relevant data\n",
    "#first conver OpenDate to a datetype data\n",
    "viol_data['OpenDate'] = pd.to_datetime(viol_data.OpenDate, format='%Y-%m-%d')\n",
    "#now get the records only in 2022\n",
    "#interesting year and type are\n",
    "int_year=2022\n",
    "int_type='Weeds'\n",
    "int_status='Closed'\n",
    "#We can now see the interesting part of the data based on three condition\n",
    "record_year_type=viol_data[(viol_data['OpenDate'].dt.year==int_year) \n",
    "                           & (viol_data['RecordTypeDesc'].str.contains(int_type,case=False,na=False))]\n",
    "\n",
    "total_type_in_year=len(record_year_type)\n",
    "total_closed=sum(record_year_type['StatusCurrent']=='Closed')"
   ]
  },
  {
   "cell_type": "code",
   "execution_count": 308,
   "metadata": {},
   "outputs": [
    {
     "name": "stdout",
     "output_type": "stream",
     "text": [
      "(3). It seems that there are no records in 2022 whose description is 'Weeds' and the current status is is 'Closed' so the probability is 0.0\n"
     ]
    }
   ],
   "source": [
    "print(\"(3). It seems that there are no records in 2022 whose description is \\'Weeds\\' and the current status is is \\'Closed\\' so the probability is \"+str(total_closed/total_type_in_year))"
   ]
  },
  {
   "cell_type": "markdown",
   "metadata": {},
   "source": [
    "$(4)$. How does the records dealing with parking vary across Seattle? For each ZIP code, calculate the number of records that deal with parking per capita. For simplification, a record dealing with parking is one with with the string \"parking\" appearing anywhere in the description string (without regards to case). Once you have the records per capita for each ZIP code, report the standard deviation. Exclude ZIP codes that do not have at least 100 records dealing with parking."
   ]
  },
  {
   "cell_type": "code",
   "execution_count": 309,
   "metadata": {},
   "outputs": [],
   "source": [
    "#First let's first gather relevant data and see what it looks like\n",
    "viol_parking=viol_data[(viol_data['Description'].str.contains('parking',case=False,na=False))].dropna()\n",
    "viol_parking['OriginalZip']=viol_parking['OriginalZip'].astype('int')"
   ]
  },
  {
   "cell_type": "code",
   "execution_count": 310,
   "metadata": {},
   "outputs": [],
   "source": [
    "#Now let us calculate total parking violatons per zip code and store this information.\n",
    "tot_parking_viol_zip=viol_parking['OriginalZip'].value_counts().to_frame().reset_index()\n",
    "tot_parking_viol_zip.columns=['ZIP','TotalParkingViolations']\n",
    "#Keep only >=100 parking violations\n",
    "tot_parking_viol_zip=tot_parking_viol_zip[tot_parking_viol_zip['TotalParkingViolations']>=100]"
   ]
  },
  {
   "cell_type": "code",
   "execution_count": 311,
   "metadata": {},
   "outputs": [],
   "source": [
    "#Let us now read the population data and then compute the violations per capita\n",
    "pop_file_path=os.path.join(location,\"seattle_population_by_ZIP.csv\")\n",
    "pop_data=pd.read_csv(pop_file_path)"
   ]
  },
  {
   "cell_type": "code",
   "execution_count": 312,
   "metadata": {},
   "outputs": [
    {
     "name": "stdout",
     "output_type": "stream",
     "text": [
      "(4). The standard deviation in the parking violations per capita is 0.00353 violations per person.\n"
     ]
    }
   ],
   "source": [
    "#combine the two dataframes\n",
    "pop_parking_viol=pop_data.merge(tot_parking_viol_zip,how='left',left_on='ZIP',right_on='ZIP').dropna()\n",
    "#compute violations per capita\n",
    "pop_parking_viol['ParkingViolationsPerCapita']=pop_parking_viol['TotalParkingViolations']/pop_parking_viol['population']\n",
    "#Finally compute the standard deviation\n",
    "viol_per_capita_std=pop_parking_viol['ParkingViolationsPerCapita'].std()\n",
    "print('(4). The standard deviation in the parking violations per capita is '+ str(round(viol_per_capita_std,5))+' violations per person.')"
   ]
  },
  {
   "cell_type": "markdown",
   "metadata": {},
   "source": [
    "$(5)$. The number of records per year has generally been increasing over time. We can visualize this trend by plotting the number of records for each year. What is the slope of a line of best fit? Only include records between the years 2004 and 2020 (inclusive).."
   ]
  },
  {
   "cell_type": "code",
   "execution_count": 316,
   "metadata": {},
   "outputs": [],
   "source": [
    "#First let us compute number of violations each year\n",
    "viol_data['Year']=viol_data['OpenDate'].dt.year\n",
    "viol_each_year=viol_data.Year.value_counts().to_frame().reset_index()\n",
    "viol_each_year.columns=['Year','TotalViolations']\n",
    "viol_each_year=viol_each_year[(viol_each_year['Year']>=2004) & (viol_each_year['Year']<=2020)]"
   ]
  },
  {
   "cell_type": "code",
   "execution_count": 320,
   "metadata": {},
   "outputs": [],
   "source": [
    "#Using a linear estimation\n",
    "from sklearn.linear_model import LinearRegression\n",
    "x=viol_each_year.Year.to_numpy().reshape((-1,1))\n",
    "y=viol_each_year['TotalViolations'].to_numpy()\n",
    "model=LinearRegression()\n",
    "model.fit(x,y)\n",
    "slp=model.coef_[0]\n",
    "intcp=model.intercept_"
   ]
  },
  {
   "cell_type": "code",
   "execution_count": 323,
   "metadata": {},
   "outputs": [
    {
     "data": {
      "image/png": "[encoded data removed]",
      "text/plain": [
       "<Figure size 1152x432 with 1 Axes>"
      ]
     },
     "metadata": {
      "needs_background": "light"
     },
     "output_type": "display_data"
    }
   ],
   "source": [
    "#Let us now visualize to see if it makes sense\n",
    "#Visualize\n",
    "import matplotlib.pyplot as plt\n",
    "%matplotlib inline\n",
    "import seaborn as sns\n",
    "plt.figure(figsize=(16,6))\n",
    "plt.xlabel('Year')\n",
    "plt.ylabel('Total number of violations')\n",
    "plt.title('Visualizing how total violations change with years')\n",
    "plt.scatter(viol_each_year['Year'],viol_each_year['TotalViolations'])\n",
    "plt.plot(viol_each_year['Year'],slp*viol_each_year['Year']+intcp)\n",
    "plt.show(block=True)"
   ]
  },
  {
   "cell_type": "code",
   "execution_count": 322,
   "metadata": {},
   "outputs": [
    {
     "name": "stdout",
     "output_type": "stream",
     "text": [
      "(5). The slope of the line of best fit is approximately 350 violations per year.\n"
     ]
    }
   ],
   "source": [
    "print('(5). The slope of the line of best fit is approximately ' +str(round(slp))+' violations per year.')\n"
   ]
  },
  {
   "cell_type": "code",
   "execution_count": null,
   "metadata": {},
   "outputs": [],
   "source": []
  },
  {
   "cell_type": "code",
   "execution_count": null,
   "metadata": {},
   "outputs": [],
   "source": []
  }
 ],
 "metadata": {
  "kernelspec": {
   "display_name": "Python 3 (ipykernel)",
   "language": "python",
   "name": "python3"
  },
  "language_info": {
   "codemirror_mode": {
    "name": "ipython",
    "version": 3
   },
   "file_extension": ".py",
   "mimetype": "text/x-python",
   "name": "python",
   "nbconvert_exporter": "python",
   "pygments_lexer": "ipython3",
   "version": "3.7.11"
  }
 },
 "nbformat": 4,
 "nbformat_minor": 4
}
